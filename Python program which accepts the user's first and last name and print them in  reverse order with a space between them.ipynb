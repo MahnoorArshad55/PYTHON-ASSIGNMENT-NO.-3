{
 "cells": [
  {
   "cell_type": "code",
   "execution_count": 1,
   "id": "3dcf7548",
   "metadata": {},
   "outputs": [
    {
     "name": "stdout",
     "output_type": "stream",
     "text": [
      "Mahnoor\n",
      "Arshad\n",
      "Mahnoor Arshad\n",
      "['d', 'a', 'h', 's', 'r', 'A', ' ', 'r', 'o', 'o', 'n', 'h', 'a', 'M']\n"
     ]
    }
   ],
   "source": [
    "#Write a Python program which accepts the user's first and last name and print them in  reverse order with a space between them.  \n",
    "First_Name = input()\n",
    "Last_Name = input()\n",
    "Name= First_Name +\" \" + Last_Name\n",
    "print(Name)\n",
    "print(list(reversed(Name)))"
   ]
  },
  {
   "cell_type": "code",
   "execution_count": null,
   "id": "df054b44",
   "metadata": {},
   "outputs": [],
   "source": []
  }
 ],
 "metadata": {
  "kernelspec": {
   "display_name": "Python 3",
   "language": "python",
   "name": "python3"
  },
  "language_info": {
   "codemirror_mode": {
    "name": "ipython",
    "version": 3
   },
   "file_extension": ".py",
   "mimetype": "text/x-python",
   "name": "python",
   "nbconvert_exporter": "python",
   "pygments_lexer": "ipython3",
   "version": "3.8.8"
  }
 },
 "nbformat": 4,
 "nbformat_minor": 5
}
