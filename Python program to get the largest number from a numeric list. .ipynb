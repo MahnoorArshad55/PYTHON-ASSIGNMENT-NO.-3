{
 "cells": [
  {
   "cell_type": "code",
   "execution_count": 2,
   "id": "48f0ec58",
   "metadata": {},
   "outputs": [
    {
     "data": {
      "text/plain": [
       "99"
      ]
     },
     "execution_count": 2,
     "metadata": {},
     "output_type": "execute_result"
    }
   ],
   "source": [
    "#Write a Python program to get the largest number from a numeric list. \n",
    "i=[24,13,7,99,21,3,84,65]\n",
    "max(i)\n"
   ]
  },
  {
   "cell_type": "code",
   "execution_count": null,
   "id": "36f6dbc6",
   "metadata": {},
   "outputs": [],
   "source": []
  }
 ],
 "metadata": {
  "kernelspec": {
   "display_name": "Python 3",
   "language": "python",
   "name": "python3"
  },
  "language_info": {
   "codemirror_mode": {
    "name": "ipython",
    "version": 3
   },
   "file_extension": ".py",
   "mimetype": "text/x-python",
   "name": "python",
   "nbconvert_exporter": "python",
   "pygments_lexer": "ipython3",
   "version": "3.8.8"
  }
 },
 "nbformat": 4,
 "nbformat_minor": 5
}
