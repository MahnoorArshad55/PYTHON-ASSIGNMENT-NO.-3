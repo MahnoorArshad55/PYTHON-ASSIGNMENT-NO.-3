{
 "cells": [
  {
   "cell_type": "code",
   "execution_count": 1,
   "id": "1a170b42",
   "metadata": {},
   "outputs": [
    {
     "name": "stdout",
     "output_type": "stream",
     "text": [
      "12\n",
      "The radius of a circle: 12\n",
      "The area of a circle is found to be: 452.448\n"
     ]
    }
   ],
   "source": [
    "#Write a Python program which accepts the radius of a circle from the user and compute  the area. \n",
    "pi= 3.142\n",
    "r = int(input())\n",
    "area = pi*r*r\n",
    "print(\"The radius of a circle:\",r)\n",
    "print(\"The area of a circle is found to be:\",area)"
   ]
  },
  {
   "cell_type": "code",
   "execution_count": null,
   "id": "f69551db",
   "metadata": {},
   "outputs": [],
   "source": []
  }
 ],
 "metadata": {
  "kernelspec": {
   "display_name": "Python 3",
   "language": "python",
   "name": "python3"
  },
  "language_info": {
   "codemirror_mode": {
    "name": "ipython",
    "version": 3
   },
   "file_extension": ".py",
   "mimetype": "text/x-python",
   "name": "python",
   "nbconvert_exporter": "python",
   "pygments_lexer": "ipython3",
   "version": "3.8.8"
  }
 },
 "nbformat": 4,
 "nbformat_minor": 5
}
