{
 "cells": [
  {
   "cell_type": "code",
   "execution_count": 4,
   "id": "4491db5b",
   "metadata": {},
   "outputs": [
    {
     "name": "stdout",
     "output_type": "stream",
     "text": [
      "89\n",
      "98\n",
      "80\n",
      "97\n",
      "96\n",
      "The marks obtained in each subject i.e Computer, Islamiat, Mathematics, Physics and Chemistry are 89 98 80 97 96\n",
      "The total marks obtained are 460\n",
      "The percentage is 92.0\n",
      "The grade is A+\n"
     ]
    }
   ],
   "source": [
    "#Write a program which takes 5 inputs from user for different subject’s marks, total it  and generate mark sheet using grades\n",
    "Computer = int(input())\n",
    "Islamiat = int(input())\n",
    "Maths = int(input())\n",
    "Physics = int(input())\n",
    "Chemistry = int(input())\n",
    "print(\"The marks obtained in each subject i.e Computer, Islamiat, Mathematics, Physics and Chemistry are\" , Computer , Islamiat , Maths , Physics , Chemistry, )\n",
    "Marks_Obtained = Computer+Islamiat+Maths+Physics+Chemistry\n",
    "print(\"The total marks obtained are\" , Marks_Obtained)\n",
    "Total_Marks = 500\n",
    "Percentage = (Marks_Obtained*100)/Total_Marks\n",
    "print(\"The percentage is\" , Percentage)\n",
    "if (Percentage > 90 and Percentage < 100):\n",
    "   print(\"The grade is A+\")\n",
    "elif (Percentage > 80 and Percentage < 90):\n",
    "   print(\"The grade is B\")\n",
    "elif (Percentage>70 and Percentage<80):\n",
    "   print(\"The grade is C\")\n",
    "elif (Percentage>60 and Percentage<70):\n",
    "   print(\"The grade is D\")\n",
    "elif Percentage<60:\n",
    "   print(\"Below 60% is fail\")"
   ]
  },
  {
   "cell_type": "code",
   "execution_count": null,
   "id": "136a350a",
   "metadata": {},
   "outputs": [],
   "source": []
  }
 ],
 "metadata": {
  "kernelspec": {
   "display_name": "Python 3",
   "language": "python",
   "name": "python3"
  },
  "language_info": {
   "codemirror_mode": {
    "name": "ipython",
    "version": 3
   },
   "file_extension": ".py",
   "mimetype": "text/x-python",
   "name": "python",
   "nbconvert_exporter": "python",
   "pygments_lexer": "ipython3",
   "version": "3.8.8"
  }
 },
 "nbformat": 4,
 "nbformat_minor": 5
}
